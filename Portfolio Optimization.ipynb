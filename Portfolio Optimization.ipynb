{
 "cells": [
  {
   "cell_type": "code",
   "execution_count": 1,
   "id": "d2441b58-f1fb-46ab-9c56-1761549da113",
   "metadata": {},
   "outputs": [],
   "source": [
    "import numpy as np\n",
    "import pandas as pd\n",
    "from Finanzen.Portfolio import Portfolio\n",
    "import Finanzen.Tools as tl\n",
    "\n",
    "from pprint import pprint\n",
    "import matplotlib.pyplot as plt\n",
    "import matplotlib"
   ]
  },
  {
   "cell_type": "markdown",
   "id": "7ebc2163-43f3-4966-8d95-08a4612bbf96",
   "metadata": {},
   "source": [
    "# Define Portfolio and weights"
   ]
  },
  {
   "cell_type": "code",
   "execution_count": 2,
   "id": "b147bfff-8f3a-4a49-8ee1-e2b03123569b",
   "metadata": {},
   "outputs": [
    {
     "name": "stderr",
     "output_type": "stream",
     "text": [
      "[*********************100%%**********************]  5 of 5 completed\n",
      "[*********************100%%**********************]  5 of 5 completed"
     ]
    },
    {
     "name": "stdout",
     "output_type": "stream",
     "text": [
      "Ticker          AMZN      GOOG       META       TSLA       WMT\n",
      "Date                                                          \n",
      "2023-11-07  2.970001  0.949997   3.016815   2.909988  0.254848\n",
      "2023-11-08 -0.630005  0.860001   0.958984  -0.069992 -0.446812\n",
      "2023-11-09 -1.479996 -1.569992   0.769165 -12.130005 -0.125774\n",
      "2023-11-10  2.959991  2.369995   8.211304   4.669998  0.751312\n",
      "2023-11-13 -0.970001 -0.419998   0.419556   9.060013  0.493149\n",
      "...              ...       ...        ...        ...       ...\n",
      "2024-04-29  1.340012 -5.790009 -10.670013  25.760010  0.080002\n",
      "2024-04-30 -5.960007 -3.259995  -2.449982 -10.770004 -0.890003\n",
      "2024-05-01  4.000000  0.930008   9.019989  -3.289993 -0.500000\n",
      "2024-05-02  5.720001  2.889999   2.489990   0.019989  0.860001\n",
      "2024-05-03  1.490005  0.529999  10.279999   1.180008  0.110001\n",
      "\n",
      "[123 rows x 5 columns]\n"
     ]
    },
    {
     "name": "stderr",
     "output_type": "stream",
     "text": [
      "\n"
     ]
    }
   ],
   "source": [
    "a = ['AMZN', 'GOOG', 'WMT', 'TSLA', 'META']\n",
    "weights = [2.5, 1, 1, 1, 1]\n",
    "\n",
    "weighted_assets = tl.lists2dict(a, weights)\n",
    "\n",
    "P = Portfolio(assets=weighted_assets)\n",
    "print(P.returns)"
   ]
  },
  {
   "cell_type": "code",
   "execution_count": null,
   "id": "74ca893b-e91f-4803-b2b6-04b79314969e",
   "metadata": {},
   "outputs": [],
   "source": []
  },
  {
   "cell_type": "code",
   "execution_count": null,
   "id": "542e94b1-35af-4797-8f7f-e597222e1d46",
   "metadata": {},
   "outputs": [],
   "source": [
    "from matplotlib.dates import DateFormatter\n",
    "import matplotlib.dates as mdates\n",
    "df = P.returns\n",
    "\n",
    "fig, ax = plt.subplots()\n",
    "ax.set_ylabel(\"Volume\")\n",
    "ax.xaxis.set_major_formatter(mdates.DateFormatter('%Y-%m'))\n",
    "ax.xaxis.set_major_locator(matplotlib.dates.MonthLocator())\n",
    "\n",
    "for c in df.columns:\n",
    "    ax.bar(df.index, df[c])\n",
    "\n",
    "plt.show()"
   ]
  },
  {
   "cell_type": "code",
   "execution_count": null,
   "id": "9c0e7c7f-23c9-4903-9863-966725763604",
   "metadata": {},
   "outputs": [],
   "source": [
    "df = P.returns\n",
    "\n",
    "#df.plot(kind=\"bar\", figsize=(10,6), ylabel=\"Returns\", xlabel=\"Time\", subplots=False)\n",
    "df.plot(kind=\"hist\", bins=50, alpha=0.6, figsize=(10,6), ylabel=\"Returns\", xlabel=\"Time\")\n",
    "df.plot(kind=\"box\",vert=False , figsize=(10,6), ylabel=\"Asset\", xlabel=\"Returns distr.\")\n",
    "df.plot(kind=\"area\", stacked=False, figsize=(10,6), ylabel=\"Returns\", xlabel=\"Time\")\n",
    "\n"
   ]
  },
  {
   "cell_type": "code",
   "execution_count": null,
   "id": "43b75aeb-0965-483f-975a-a950d1088def",
   "metadata": {},
   "outputs": [],
   "source": [
    "#ax = P.returns.plot(kind=\"bar\", figsize=(10, 6))\n",
    "#ax.set_xlabel('Time')\n",
    "#ax.legend(ncol=5)\n",
    "#ax.xaxis.set_major_locator(matplotlib.dates.MonthLocator())\n",
    "#ax.xaxis.set_major_formatter(\n",
    "#    matplotlib.dates.ConciseDateFormatter(ax.xaxis.get_major_locator()))\n",
    "#ax.xaxis.set_major_formatter(matplotlib.dates.DateFormatter('%Y-%b'))\n",
    "#plt.show()"
   ]
  },
  {
   "cell_type": "markdown",
   "id": "f17556a5-d7d0-4d74-9435-cecda109226e",
   "metadata": {},
   "source": [
    "# Basic statistics of the portfolio"
   ]
  },
  {
   "cell_type": "code",
   "execution_count": 3,
   "id": "7403597f-5f4e-4b08-ac9a-2c7dd761e536",
   "metadata": {},
   "outputs": [
    {
     "name": "stdout",
     "output_type": "stream",
     "text": [
      "Ticker            AMZN        GOOG        META        TSLA        WMT  \\\n",
      "Date                                                                    \n",
      "2023-11-06  139.740005  131.449997  315.465271  219.270004  54.570774   \n",
      "2023-11-07  142.710007  132.399994  318.482086  222.179993  54.825623   \n",
      "2023-11-08  142.080002  133.259995  319.441071  222.110001  54.378811   \n",
      "2023-11-09  140.600006  131.690002  320.210236  209.979996  54.253036   \n",
      "2023-11-10  143.559998  134.059998  328.421539  214.649994  55.004349   \n",
      "...                ...         ...         ...         ...        ...   \n",
      "2024-04-29  180.960007  167.899994  432.619995  194.050003  60.240002   \n",
      "2024-04-30  175.000000  164.639999  430.170013  183.279999  59.349998   \n",
      "2024-05-01  179.000000  165.570007  439.190002  179.990005  58.849998   \n",
      "2024-05-02  184.720001  168.460007  441.679993  180.009995  59.709999   \n",
      "2024-05-03  186.210007  168.990005  451.959991  181.190002  59.820000   \n",
      "\n",
      "Ticker      AMZN_total  GOOG_total  WMT_total  TSLA_total  META_total  \n",
      "Date                                                                   \n",
      "2023-11-06  349.350014  131.449997  54.570774  219.270004  315.465271  \n",
      "2023-11-07  356.775017  132.399994  54.825623  222.179993  318.482086  \n",
      "2023-11-08  355.200005  133.259995  54.378811  222.110001  319.441071  \n",
      "2023-11-09  351.500015  131.690002  54.253036  209.979996  320.210236  \n",
      "2023-11-10  358.899994  134.059998  55.004349  214.649994  328.421539  \n",
      "...                ...         ...        ...         ...         ...  \n",
      "2024-04-29  452.400017  167.899994  60.240002  194.050003  432.619995  \n",
      "2024-04-30  437.500000  164.639999  59.349998  183.279999  430.170013  \n",
      "2024-05-01  447.500000  165.570007  58.849998  179.990005  439.190002  \n",
      "2024-05-02  461.800003  168.460007  59.709999  180.009995  441.679993  \n",
      "2024-05-03  465.525017  168.990005  59.820000  181.190002  451.959991  \n",
      "\n",
      "[124 rows x 10 columns]\n"
     ]
    }
   ],
   "source": [
    "pprint(P.total_prices())"
   ]
  },
  {
   "cell_type": "code",
   "execution_count": 4,
   "id": "43ad3711-0feb-4efe-b611-d9eb9ce78625",
   "metadata": {},
   "outputs": [
    {
     "name": "stdout",
     "output_type": "stream",
     "text": [
      "[[0.38461538 0.15384615 0.15384615 0.15384615 0.15384615]] [[0.42715686]]\n"
     ]
    }
   ],
   "source": [
    "# Variance of Portfolio return\n",
    "sigma = P.correlation_matrix(True)\n",
    "w = P.weight_vector()\n",
    "sigma_total = np.matmul(np.matmul(w, sigma), w.T)\n",
    "\n",
    "print(w, sigma_total)"
   ]
  },
  {
   "cell_type": "code",
   "execution_count": 12,
   "id": "791a1188-0863-4d7e-882d-36e072643409",
   "metadata": {},
   "outputs": [
    {
     "data": {
      "text/html": [
       "<div>\n",
       "<style scoped>\n",
       "    .dataframe tbody tr th:only-of-type {\n",
       "        vertical-align: middle;\n",
       "    }\n",
       "\n",
       "    .dataframe tbody tr th {\n",
       "        vertical-align: top;\n",
       "    }\n",
       "\n",
       "    .dataframe thead th {\n",
       "        text-align: right;\n",
       "    }\n",
       "</style>\n",
       "<table border=\"1\" class=\"dataframe\">\n",
       "  <thead>\n",
       "    <tr style=\"text-align: right;\">\n",
       "      <th></th>\n",
       "      <th>Expected Return</th>\n",
       "      <th>Risk</th>\n",
       "    </tr>\n",
       "    <tr>\n",
       "      <th>Ticker</th>\n",
       "      <th></th>\n",
       "      <th></th>\n",
       "    </tr>\n",
       "  </thead>\n",
       "  <tbody>\n",
       "    <tr>\n",
       "      <th>AMZN</th>\n",
       "      <td>0.377805</td>\n",
       "      <td>2.576104</td>\n",
       "    </tr>\n",
       "    <tr>\n",
       "      <th>GOOG</th>\n",
       "      <td>0.305203</td>\n",
       "      <td>2.734008</td>\n",
       "    </tr>\n",
       "    <tr>\n",
       "      <th>META</th>\n",
       "      <td>1.109713</td>\n",
       "      <td>11.297060</td>\n",
       "    </tr>\n",
       "    <tr>\n",
       "      <th>TSLA</th>\n",
       "      <td>-0.309594</td>\n",
       "      <td>6.375101</td>\n",
       "    </tr>\n",
       "    <tr>\n",
       "      <th>WMT</th>\n",
       "      <td>0.042677</td>\n",
       "      <td>0.635251</td>\n",
       "    </tr>\n",
       "  </tbody>\n",
       "</table>\n",
       "</div>"
      ],
      "text/plain": [
       "        Expected Return       Risk\n",
       "Ticker                            \n",
       "AMZN           0.377805   2.576104\n",
       "GOOG           0.305203   2.734008\n",
       "META           1.109713  11.297060\n",
       "TSLA          -0.309594   6.375101\n",
       "WMT            0.042677   0.635251"
      ]
     },
     "execution_count": 12,
     "metadata": {},
     "output_type": "execute_result"
    }
   ],
   "source": [
    "df = pd.concat([P.expected_return(), P.excpected_risk()], axis=1)\n",
    "df.columns=[\"Expected Return\", \"Risk\"]\n",
    "df"
   ]
  },
  {
   "cell_type": "code",
   "execution_count": 16,
   "id": "09cb38cf-6a7b-4969-8b98-662010625e4f",
   "metadata": {},
   "outputs": [
    {
     "data": {
      "image/png": "[encoded data removed]",
      "text/plain": [
       "<Figure size 640x480 with 1 Axes>"
      ]
     },
     "metadata": {},
     "output_type": "display_data"
    }
   ],
   "source": [
    "fig, ax = plt.subplots()\n",
    "df.plot(\"Expected Return\", \"Risk\", kind=\"scatter\", ax=ax)\n",
    "\n",
    "for k, v in df.iterrows():\n",
    "    ax.annotate(k, v)"
   ]
  },
  {
   "cell_type": "code",
   "execution_count": null,
   "id": "03fd80d6-76cf-478d-b2df-3427d0258747",
   "metadata": {},
   "outputs": [],
   "source": []
  }
 ],
 "metadata": {
  "kernelspec": {
   "display_name": "Python 3 (ipykernel)",
   "language": "python",
   "name": "python3"
  },
  "language_info": {
   "codemirror_mode": {
    "name": "ipython",
    "version": 3
   },
   "file_extension": ".py",
   "mimetype": "text/x-python",
   "name": "python",
   "nbconvert_exporter": "python",
   "pygments_lexer": "ipython3",
   "version": "3.9.18"
  }
 },
 "nbformat": 4,
 "nbformat_minor": 5
}

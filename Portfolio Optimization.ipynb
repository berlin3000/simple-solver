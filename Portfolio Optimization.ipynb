{
 "cells": [
  {
   "cell_type": "code",
   "execution_count": 9,
   "id": "d2441b58-f1fb-46ab-9c56-1761549da113",
   "metadata": {},
   "outputs": [],
   "source": [
    "import numpy as np\n",
    "from Finanzen.Portfolio import Portfolio\n",
    "from pprint import pprint"
   ]
  },
  {
   "cell_type": "markdown",
   "id": "7ebc2163-43f3-4966-8d95-08a4612bbf96",
   "metadata": {},
   "source": [
    "# Define Portfolio and weights"
   ]
  },
  {
   "cell_type": "code",
   "execution_count": 14,
   "id": "b147bfff-8f3a-4a49-8ee1-e2b03123569b",
   "metadata": {},
   "outputs": [
    {
     "name": "stderr",
     "output_type": "stream",
     "text": [
      "[*********************100%%**********************]  5 of 5 completed\n",
      "[*********************100%%**********************]  5 of 5 completed"
     ]
    },
    {
     "name": "stdout",
     "output_type": "stream",
     "text": [
      "Ticker          AMZN       GOOG       META      TSLA       WMT\n",
      "Date                                                          \n",
      "2023-10-24  2.000000   2.220001  -1.458466  4.440002  0.741383\n",
      "2023-10-25 -7.169998 -13.449997 -13.006195 -4.100006 -0.162178\n",
      "2023-10-26 -1.820000  -3.229996 -11.168152 -6.660004 -0.327663\n",
      "2023-10-27  8.169998  -0.040001   8.371124  1.540009 -0.198586\n",
      "2023-10-30  4.970009   2.349998   5.923706 -9.940002  0.612301\n",
      "...              ...        ...        ...       ...       ...\n",
      "2024-04-17 -2.040009   0.880005  -5.589996 -1.660004 -0.189999\n",
      "2024-04-18 -2.059998   0.580002   7.629974 -5.520004 -0.390003\n",
      "2024-04-19 -4.589996  -1.740005 -20.729980 -2.879990  0.270000\n",
      "2024-04-22  2.599991   2.229996   0.660004 -5.000000  0.610001\n",
      "2024-04-23  0.355011   1.610001  11.867676  2.511597 -0.884998\n",
      "\n",
      "[125 rows x 5 columns]\n"
     ]
    },
    {
     "name": "stderr",
     "output_type": "stream",
     "text": [
      "\n"
     ]
    }
   ],
   "source": [
    "a = ['AMZN', 'GOOG', 'WMT', 'TSLA', 'META']\n",
    "#a = ['AMZN', 'GOOG']\n",
    "P = Portfolio(assets=a, weights_amounts=[2.5, 1, 1, 1, 1])\n",
    "#P = Portfolio(assets=['AMZN'])\n",
    "print(P.returns)"
   ]
  },
  {
   "cell_type": "markdown",
   "id": "f17556a5-d7d0-4d74-9435-cecda109226e",
   "metadata": {},
   "source": [
    "# Basic statistics of the portfolio"
   ]
  },
  {
   "cell_type": "code",
   "execution_count": 15,
   "id": "7403597f-5f4e-4b08-ac9a-2c7dd761e536",
   "metadata": {},
   "outputs": [
    {
     "name": "stdout",
     "output_type": "stream",
     "text": [
      "Ticker            AMZN        GOOG  ...  TSLA_total  META_total\n",
      "Date                                ...                        \n",
      "2023-10-23  126.559998  137.899994  ...  212.080002  313.677185\n",
      "2023-10-24  128.559998  140.119995  ...  216.520004  312.218719\n",
      "2023-10-25  121.389999  126.669998  ...  212.419998  299.212524\n",
      "2023-10-26  119.570000  123.440002  ...  205.759995  288.044373\n",
      "2023-10-27  127.739998  123.400002  ...  207.300003  296.415497\n",
      "...                ...         ...  ...         ...         ...\n",
      "2024-04-17  181.279999  156.880005  ...  155.449997  494.170013\n",
      "2024-04-18  179.220001  157.460007  ...  149.929993  501.799988\n",
      "2024-04-19  174.630005  155.720001  ...  147.050003  481.070007\n",
      "2024-04-22  177.229996  157.949997  ...  142.050003  481.730011\n",
      "2024-04-23  177.585007  159.559998  ...  144.561600  493.597687\n",
      "\n",
      "[126 rows x 10 columns]\n"
     ]
    }
   ],
   "source": [
    "pprint(P.total_prices())"
   ]
  },
  {
   "cell_type": "code",
   "execution_count": 17,
   "id": "43ad3711-0feb-4efe-b611-d9eb9ce78625",
   "metadata": {},
   "outputs": [
    {
     "name": "stdout",
     "output_type": "stream",
     "text": [
      "[[0.38461538 0.15384615 0.15384615 0.15384615 0.15384615]] [[0.45702575]]\n"
     ]
    }
   ],
   "source": [
    "# Variance of Portfolio return\n",
    "sigma = P.correlation_matrix(True)\n",
    "w = P.weight_vector()\n",
    "sigma_total = np.matmul(np.matmul(w, sigma), w.T)\n",
    "\n",
    "print(w, sigma_total)"
   ]
  },
  {
   "cell_type": "code",
   "execution_count": null,
   "id": "791a1188-0863-4d7e-882d-36e072643409",
   "metadata": {},
   "outputs": [],
   "source": []
  }
 ],
 "metadata": {
  "kernelspec": {
   "display_name": "Python 3 (ipykernel)",
   "language": "python",
   "name": "python3"
  },
  "language_info": {
   "codemirror_mode": {
    "name": "ipython",
    "version": 3
   },
   "file_extension": ".py",
   "mimetype": "text/x-python",
   "name": "python",
   "nbconvert_exporter": "python",
   "pygments_lexer": "ipython3",
   "version": "3.9.18"
  }
 },
 "nbformat": 4,
 "nbformat_minor": 5
}
